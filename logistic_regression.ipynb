{
 "cells": [
  {
   "cell_type": "code",
   "execution_count": null,
   "metadata": {},
   "outputs": [],
   "source": [
    "import numpy as np\n",
    "import pandas as pd\n",
    "from scipy.sparse import csc_matrix\n",
    "import matplotlib.pyplot as plt\n",
    "import matplotlib.dates as mdates\n",
    "import h5py\n",
    "\n",
    "from sklearn import model_selection, feature_selection, utils, ensemble, linear_model, metrics\n"
   ]
  },
  {
   "cell_type": "code",
   "execution_count": null,
   "metadata": {},
   "outputs": [],
   "source": [
    "print(\"Import data\")\n",
    "\n",
    "X = pd.read_hdf('data_window_botnet6.h5', key='data')\n",
    "X.reset_index(drop=True, inplace=True)\n",
    "\n",
    "X2 = pd.read_hdf('data_window3_botnet6.h5', key='data')\n",
    "X2.reset_index(drop=True, inplace=True)\n",
    "\n",
    "X = X.join(X2)\n",
    "\n",
    "X.drop('window_id', axis=1, inplace=True)\n",
    "\n",
    "y = X['Label_<lambda>']\n",
    "X.drop('Label_<lambda>', axis=1, inplace=True)\n",
    "\n",
    "labels = np.load(\"data_window_botnet6_labels.npy\")\n",
    "\n",
    "print(X.columns.values)\n",
    "print(labels)\n",
    "print(np.where(labels == 'flow=From-Botne')[0][0])\n",
    "\n",
    "y_bin6 = y == np.where(labels == 'flow=From-Botne')[0][0]\n",
    "print(\"y\", np.unique(y, return_counts=True))\n"
   ]
  },
  {
   "cell_type": "code",
   "execution_count": null,
   "metadata": {},
   "outputs": [],
   "source": [
    "nb_prediction = 50\n",
    "np.random.seed(seed=123456)\n",
    "tab_seed = np.random.randint(0, 1000000000, nb_prediction)\n",
    "print(tab_seed)\n",
    "\n",
    "tab_train_precision = np.array([0.]*nb_prediction)\n",
    "tab_train_recall = np.array([0.]*nb_prediction)\n",
    "tab_train_fbeta_score = np.array([0.]*nb_prediction)\n",
    "\n",
    "tab_test_precision = np.array([0.]*nb_prediction)\n",
    "tab_test_recall = np.array([0.]*nb_prediction)\n",
    "tab_test_fbeta_score = np.array([0.]*nb_prediction)\n"
   ]
  },
  {
   "cell_type": "code",
   "execution_count": null,
   "metadata": {},
   "outputs": [],
   "source": [
    "for i in range(0, nb_prediction):\n",
    "    X_train, X_test, y_train, y_test = model_selection.train_test_split(\n",
    "        X, y_bin6, test_size=0.33, random_state=tab_seed[i])\n",
    "\n",
    "    X_train_new, y_train_new = utils.resample(\n",
    "        X_train, y_train, n_samples=X_train.shape[0]*10, random_state=tab_seed[i])\n",
    "\n",
    "    print(i)\n",
    "    print(\"y_train\", np.unique(y_train_new, return_counts=True))\n",
    "    print(\"y_test\", np.unique(y_test, return_counts=True))\n",
    "\n",
    "    clf = linear_model.LogisticRegression(penalty='l2', C=550, random_state=tab_seed[i], multi_class=\"auto\", class_weight={\n",
    "                                          0: 0.044, 1: 1-0.044}, solver=\"lbfgs\", max_iter=1000, verbose=0)\n",
    "    clf.fit(X_train_new, y_train_new)\n",
    "\n",
    "    y_pred_train = clf.predict(X_train_new)\n",
    "    precision, recall, fbeta_score, support = metrics.precision_recall_fscore_support(\n",
    "        y_train_new, y_pred_train)\n",
    "    tab_train_precision[i] = precision[1]\n",
    "    tab_train_recall[i] = recall[1]\n",
    "    tab_train_fbeta_score[i] = fbeta_score[1]\n",
    "\n",
    "    y_pred_test = clf.predict(X_test)\n",
    "    precision, recall, fbeta_score, support = metrics.precision_recall_fscore_support(\n",
    "        y_test, y_pred_test)\n",
    "    tab_test_precision[i] = precision[1]\n",
    "    tab_test_recall[i] = recall[1]\n",
    "    tab_test_fbeta_score[i] = fbeta_score[1]\n"
   ]
  },
  {
   "cell_type": "code",
   "execution_count": null,
   "metadata": {},
   "outputs": [],
   "source": [
    "print(\"Train\")\n",
    "print(\"precision = \", tab_train_precision.mean(),\n",
    "      tab_train_precision.std(), tab_train_precision)\n",
    "print(\"recall = \", tab_train_recall.mean(),\n",
    "      tab_train_recall.std(), tab_train_recall)\n",
    "print(\"fbeta_score = \", tab_train_fbeta_score.mean(),\n",
    "      tab_train_fbeta_score.std(), tab_train_fbeta_score)\n",
    "\n",
    "print(\"Test\")\n",
    "print(\"precision = \", tab_test_precision.mean(),\n",
    "      tab_test_precision.std(), tab_test_precision)\n",
    "print(\"recall = \", tab_test_recall.mean(),\n",
    "      tab_test_recall.std(), tab_test_recall)\n",
    "print(\"fbeta_score = \", tab_test_fbeta_score.mean(),\n",
    "      tab_test_fbeta_score.std(), tab_test_fbeta_score)\n"
   ]
  }
 ],
 "metadata": {
  "language_info": {
   "name": "python"
  },
  "orig_nbformat": 4
 },
 "nbformat": 4,
 "nbformat_minor": 2
}
