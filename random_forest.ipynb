{
 "cells": [
  {
   "cell_type": "code",
   "execution_count": 1,
   "metadata": {},
   "outputs": [],
   "source": [
    "import numpy as np\n",
    "import pandas as pd\n",
    "from scipy.sparse import csc_matrix\n",
    "import matplotlib.pyplot as plt\n",
    "import matplotlib.dates as mdates\n",
    "import h5py\n",
    "\n",
    "from sklearn import model_selection, feature_selection, utils, ensemble, linear_model, metrics\n"
   ]
  },
  {
   "cell_type": "code",
   "execution_count": null,
   "metadata": {},
   "outputs": [],
   "source": [
    "print(\"Import data\")\n",
    "\n",
    "X = pd.read_hdf('model_pp1.h5', key='data')\n",
    "X.reset_index(drop=True, inplace=True)\n",
    "\n",
    "X2 = pd.read_hdf('model_pp2.h5', key='data')\n",
    "X2.reset_index(drop=True, inplace=True)\n",
    "\n",
    "X = X.join(X2)\n",
    "\n",
    "X.drop('window_id', axis=1, inplace=True)\n",
    "\n",
    "y = X['Label_<lambda>']\n",
    "X.drop('Label_<lambda>', axis=1, inplace=True)\n",
    "\n",
    "labels = np.load(\"labels.npy\", allow_pickle=True)\n",
    "\n",
    "print(X.columns.values)\n",
    "print(labels)\n",
    "print(np.where(labels == 'flow=From-Botne')[0][0])"
   ]
  },
  {
   "cell_type": "code",
   "execution_count": null,
   "metadata": {},
   "outputs": [],
   "source": [
    "y_bin6 = y == np.where(labels == 'flow=From-Botne')[0][0]\n",
    "X_train, X_test, y_train, y_test = model_selection.train_test_split(\n",
    "    X, y_bin6, test_size=0.33, random_state=123456)\n",
    "\n",
    "print(X_train.shape)\n",
    "X_train_new, y_train_new = utils.resample(\n",
    "    X_train, y_train, n_samples=X_train.shape[0]*20, random_state=123456)\n",
    "\n",
    "print(\"y\", np.unique(y, return_counts=True))\n",
    "print(\"y_train\", np.unique(y_train_new, return_counts=True))\n",
    "print(\"y_test\", np.unique(y_test, return_counts=True))\n"
   ]
  },
  {
   "cell_type": "code",
   "execution_count": null,
   "metadata": {},
   "outputs": [],
   "source": [
    "# Embedded Method\n",
    "print(\"Random Forest Classifier\")\n",
    "\n",
    "clf = ensemble.RandomForestClassifier(\n",
    "    n_estimators=100, random_state=123456, verbose=1, class_weight=None)\n",
    "clf.fit(X_train_new, y_train_new)\n",
    "\n",
    "print(\"Train\")\n",
    "y_pred_train = clf.predict(X_train_new)\n",
    "print(\"accuracy score = \", metrics.balanced_accuracy_score(\n",
    "    y_train_new, y_pred_train))\n",
    "precision, recall, fbeta_score, support = metrics.precision_recall_fscore_support(\n",
    "    y_train_new, y_pred_train)\n",
    "print(\"precision = \", precision[1])\n",
    "print(\"recall = \", recall[1])\n",
    "print(\"fbeta_score = \", fbeta_score[1])\n",
    "print(\"support = \", support[1])\n",
    "\n",
    "print(\"Test\")\n",
    "y_pred_test = clf.predict(X_test)\n",
    "print(\"accuracy score = \", metrics.balanced_accuracy_score(y_test, y_pred_test))\n",
    "precision, recall, fbeta_score, support = metrics.precision_recall_fscore_support(\n",
    "    y_test, y_pred_test)\n",
    "print(\"precision = \", precision[1])\n",
    "print(\"recall = \", recall[1])\n",
    "print(\"fbeta_score = \", fbeta_score[1])\n",
    "print(\"support = \", support[1])\n"
   ]
  }
 ],
 "metadata": {
  "kernelspec": {
   "display_name": "Python 3",
   "language": "python",
   "name": "python3"
  },
  "language_info": {
   "codemirror_mode": {
    "name": "ipython",
    "version": 3
   },
   "file_extension": ".py",
   "mimetype": "text/x-python",
   "name": "python",
   "nbconvert_exporter": "python",
   "pygments_lexer": "ipython3",
   "version": "3.10.6"
  },
  "orig_nbformat": 4
 },
 "nbformat": 4,
 "nbformat_minor": 2
}
