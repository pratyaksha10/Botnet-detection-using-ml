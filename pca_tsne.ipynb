{
 "cells": [
  {
   "cell_type": "code",
   "execution_count": 1,
   "metadata": {},
   "outputs": [],
   "source": [
    "import numpy as np\n",
    "import pandas as pd\n",
    "from scipy.sparse import csc_matrix\n",
    "import matplotlib.pyplot as plt\n",
    "import matplotlib.dates as mdates\n",
    "import h5py\n",
    "\n",
    "from sklearn import model_selection, manifold, decomposition\n"
   ]
  },
  {
   "cell_type": "code",
   "execution_count": 2,
   "metadata": {},
   "outputs": [
    {
     "name": "stdout",
     "output_type": "stream",
     "text": [
      "Import data\n",
      "['Sport_nunique' 'DstAddr_nunique' 'Dport_nunique' 'Dur_sum' 'Dur_mean'\n",
      " 'Dur_std' 'Dur_max' 'Dur_median' 'TotBytes_sum' 'TotBytes_mean'\n",
      " 'TotBytes_std' 'TotBytes_max' 'TotBytes_median' 'SrcBytes_sum'\n",
      " 'SrcBytes_mean' 'SrcBytes_std' 'SrcBytes_max' 'SrcBytes_median'\n",
      " 'Sport_RU' 'DstAddr_RU' 'Dport_RU']\n",
      "['flow=Background' 'flow=To-Backgro' 'flow=From-Backg' 'flow=From-Norma'\n",
      " 'flow=To-Normal-' 'flow=Normal-V42' 'flow=From-Botne']\n",
      "6\n"
     ]
    }
   ],
   "source": [
    "print(\"Import data\")\n",
    "\n",
    "X = pd.read_hdf('model_pp1.h5', key='data')\n",
    "X.reset_index(drop=True, inplace=True)\n",
    "\n",
    "X2 = pd.read_hdf('model_pp2.h5', key='data')\n",
    "X2.reset_index(drop=True, inplace=True)\n",
    "\n",
    "X = X.join(X2)\n",
    "\n",
    "X.drop('window_id', axis=1, inplace=True)\n",
    "\n",
    "y = X['Label_<lambda>']\n",
    "X.drop('Label_<lambda>', axis=1, inplace=True)\n",
    "\n",
    "labels = np.load(\"labels.npy\", allow_pickle=True)\n",
    "\n",
    "print(X.columns.values)\n",
    "print(labels)\n",
    "print(np.where(labels == 'flow=From-Botne')[0][0])\n"
   ]
  },
  {
   "cell_type": "code",
   "execution_count": 3,
   "metadata": {},
   "outputs": [
    {
     "name": "stdout",
     "output_type": "stream",
     "text": [
      "y (array([0, 1, 2, 3, 4, 6], dtype=int64), array([2207092,   18047,     263,     984,      48,     286], dtype=int64))\n",
      "y_train (array([ -14.64152587,  -14.62718816,  -14.62477672, ..., 1018.93716717,\n",
      "       1038.07597368, 1038.42284291]), array([5405,    1,    1, ...,    1,    1,    2], dtype=int64))\n",
      "y_test (array([False,  True]), array([734736,     82], dtype=int64))\n",
      "t-SNE\n"
     ]
    },
    {
     "name": "stderr",
     "output_type": "stream",
     "text": [
      "c:\\Users\\Lenovo\\AppData\\Local\\Programs\\Python\\Python310\\lib\\site-packages\\sklearn\\manifold\\_t_sne.py:800: FutureWarning: The default initialization in TSNE will change from 'random' to 'pca' in 1.2.\n",
      "  warnings.warn(\n",
      "c:\\Users\\Lenovo\\AppData\\Local\\Programs\\Python\\Python310\\lib\\site-packages\\sklearn\\manifold\\_t_sne.py:810: FutureWarning: The default learning rate in TSNE will change from 200.0 to 'auto' in 1.2.\n",
      "  warnings.warn(\n"
     ]
    }
   ],
   "source": [
    "y_bin6 = y == np.where(labels == 'flow=From-Botne')[0][0]\n",
    "X_train, X_test, y_train, y_test = model_selection.train_test_split(\n",
    "    X, y_bin6, test_size=0.33, random_state=123456)\n",
    "\n",
    "print(\"y\", np.unique(y, return_counts=True))\n",
    "print(\"y_train\", np.unique(X_train, return_counts=True))\n",
    "print(\"y_test\", np.unique(y_test, return_counts=True))\n",
    "\n",
    "\n",
    "print(\"t-SNE\")  # Beware: this is very time-consuming\n",
    "clf = manifold.TSNE(n_components=2, random_state=123456)\n",
    "clf.fit(X[['Dport_nunique', 'TotBytes_sum', 'Dur_sum', 'Dur_mean', 'TotBytes_std']])\n",
    "\n",
    "print(clf.embedding_)\n",
    "\n",
    "y_plot = np.where(y_bin6 == True)[0]\n",
    "print(len(y_plot))\n",
    "\n",
    "y_plot2 = np.random.choice(np.where(y_bin6 == False)[\n",
    "                           0], size=len(y_plot)*100, replace=False)\n",
    "print(len(y_plot2))\n",
    "index = list(y_plot)+list(y_plot2)\n",
    "print(len(index))\n",
    "\n",
    "plt.scatter(clf.embedding_[index, 0], clf.embedding_[index, 1], c=y[index])\n",
    "plt.colorbar()\n",
    "plt.show()\n"
   ]
  },
  {
   "cell_type": "code",
   "execution_count": null,
   "metadata": {},
   "outputs": [],
   "source": [
    "print(\"PCA\")\n",
    "clf = decomposition.PCA(n_components=2, random_state=123456)\n",
    "clf.fit(X[['Dport_nunique', 'TotBytes_sum', 'Dur_sum',\n",
    "        'Dur_mean', 'TotBytes_std']].transpose())\n",
    "\n",
    "print(clf.components_)\n",
    "print(clf.explained_variance_ratio_)\n",
    "\n",
    "y_plot = np.where(y_bin6 == True)[0]\n",
    "print(len(y_plot))\n",
    "\n",
    "y_plot2 = np.random.choice(np.where(y_bin6 == False)[\n",
    "                           0], size=len(y_plot)*100, replace=False)\n",
    "print(len(y_plot2))\n",
    "\n",
    "index = list(y_plot)+list(y_plot2)\n",
    "print(len(index))\n",
    "\n",
    "plt.scatter(clf.components_[0, index], clf.components_[1, index], c=y[index])\n",
    "plt.colorbar()\n",
    "plt.show()\n"
   ]
  }
 ],
 "metadata": {
  "kernelspec": {
   "display_name": "Python 3",
   "language": "python",
   "name": "python3"
  },
  "language_info": {
   "codemirror_mode": {
    "name": "ipython",
    "version": 3
   },
   "file_extension": ".py",
   "mimetype": "text/x-python",
   "name": "python",
   "nbconvert_exporter": "python",
   "pygments_lexer": "ipython3",
   "version": "3.10.6"
  },
  "orig_nbformat": 4
 },
 "nbformat": 4,
 "nbformat_minor": 2
}
